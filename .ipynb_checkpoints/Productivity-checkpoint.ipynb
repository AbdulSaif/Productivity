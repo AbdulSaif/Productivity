{
 "cells": [
  {
   "cell_type": "markdown",
   "metadata": {},
   "source": [
    "## Increase Productivity"
   ]
  },
  {
   "cell_type": "markdown",
   "metadata": {},
   "source": [
    "The objective of this script is to increase the productivity of indiviudals by stoping them from surfing predefined websites. The individual can tailer this script to make it includes the websites he/she waste his/her time on.\n",
    "\n",
    "This is done with the help of CupofCode01 - youtube channel\n",
    "https://www.youtube.com/channel/UCwptawgtdrxkG2kWY0OO5mQ"
   ]
  },
  {
   "cell_type": "code",
   "execution_count": 1,
   "metadata": {},
   "outputs": [],
   "source": [
    "# importing required python libraries\n",
    "import time\n",
    "# to save time and length of code lines datetime method is imported from\n",
    "# datatime module as dt\n",
    "from datetime import datetime as dt"
   ]
  },
  {
   "cell_type": "code",
   "execution_count": 2,
   "metadata": {},
   "outputs": [],
   "source": [
    "# define variables of host file and restricted sites\n",
    "host_path = r\"C:\\windows\\System32\\drivers\\etc\\hosts\"\n",
    "restricted_sites = ['www.kooora.com','www.youtube.com']\n",
    "divert = \"127.0.0.1\" # where user will be direct when try to enter restricted sites"
   ]
  },
  {
   "cell_type": "code",
   "execution_count": null,
   "metadata": {},
   "outputs": [],
   "source": [
    "# setting the time span where the script will be active\n",
    "while True:\n",
    "    # check time if its time for work or play!!\n",
    "    if dt(dt.now().year,dt.now().month,dt.now().day,8) < dt.now() < dt(dt.now().year,dt.now().month,dt.now().day,17):\n",
    "        print(\"Working hours now!!\")\n",
    "        # edit host file to block restricted websites\n",
    "        with open(host_path,'r+') as file:\n",
    "            content = file.read()\n",
    "            # check if the host file already has the restricted websites\n",
    "            for sites in restricted_sites:\n",
    "                if site in content:\n",
    "                    pass\n",
    "                else:\n",
    "                    file.write(divert+' '+site+'\\n')\n",
    "    # edit host file to remove the block from restricted websites\n",
    "    else:\n",
    "        # read the content of host and store it in a list\n",
    "        with open(host_path,'r+') as file:\n",
    "            content = file.readlins()\n",
    "            # start at the begining of the host file\n",
    "            file.seek(0)\n",
    "            # loop through the file to re-write it without restricted sites\n",
    "            for line in content:\n",
    "                if not any (site in line for site in restricted_sites):\n",
    "                    file.write(line)\n",
    "            file.truncate()\n",
    "        print(\"Time to play!!\")\n",
    "    time.sleep(3600)"
   ]
  }
 ],
 "metadata": {
  "kernelspec": {
   "display_name": "Python 3",
   "language": "python",
   "name": "python3"
  },
  "language_info": {
   "codemirror_mode": {
    "name": "ipython",
    "version": 3
   },
   "file_extension": ".py",
   "mimetype": "text/x-python",
   "name": "python",
   "nbconvert_exporter": "python",
   "pygments_lexer": "ipython3",
   "version": "3.7.1"
  }
 },
 "nbformat": 4,
 "nbformat_minor": 2
}
